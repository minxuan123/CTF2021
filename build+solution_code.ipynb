{
  "nbformat": 4,
  "nbformat_minor": 0,
  "metadata": {
    "colab": {
      "name": "ctf_lets_go.ipynb",
      "provenance": [],
      "collapsed_sections": []
    },
    "kernelspec": {
      "name": "python3",
      "display_name": "Python 3"
    },
    "language_info": {
      "name": "python"
    }
  },
  "cells": [
    {
      "cell_type": "markdown",
      "metadata": {
        "id": "nf-KCc3uo0zE"
      },
      "source": [
        "## Encryption\n"
      ]
    },
    {
      "cell_type": "markdown",
      "metadata": {
        "id": "ssHx3PkVoAAw"
      },
      "source": [
        "\n",
        "### Part 1"
      ]
    },
    {
      "cell_type": "code",
      "metadata": {
        "id": "6lcCuwVsrD-I",
        "colab": {
          "base_uri": "https://localhost:8080/"
        },
        "outputId": "3d8475a5-4a3e-4590-b543-998e602e8928"
      },
      "source": [
        "# Vigenere cipher\n",
        "# taken from: https://www.geeksforgeeks.org/vigenere-cipher/. by Patrik Somwanshi\n",
        "\n",
        "# !!!!! HASHED PASSWORD MAY BE USED AS KEY INSTEAD\n",
        "# This function generates the\n",
        "# key in a cyclic manner until\n",
        "# it's length isn't equal to\n",
        "# the length of original text\n",
        "def generateKey(string, key):\n",
        "    key = list(key)\n",
        "    if len(string) == len(key):\n",
        "        return(key)\n",
        "    else:\n",
        "        for i in range(len(string) -\n",
        "                       len(key)):\n",
        "            key.append(key[i % len(key)])\n",
        "    return(\"\" . join(key))\n",
        "\n",
        "# This function returns the encrypted text generated\n",
        "# with the help of the key\n",
        "def cipherText(string, key):\n",
        "  cipher_text = []\n",
        "  for i in range(len(string)):\n",
        "    x = (ord(string[i]) + ord(key[i])) % 26\n",
        "    x += ord('A')\n",
        "    cipher_text.append(chr(x))\n",
        "  return(\"\" . join(cipher_text))\n",
        "\n",
        "\n",
        "string = \"Pinot Noir to Eiswen Lets try communicating using something easier then\"\n",
        "keyword = \"XMAS\"\n",
        "key = generateKey(string,keyword)\n",
        "cipher_text = cipherText(string,key)\n",
        "print(\"Ciphertext :\", cipher_text)\n",
        "print(\"Original/Decrypted Text :\",string)"
      ],
      "execution_count": null,
      "outputs": [
        {
          "output_type": "stream",
          "name": "stdout",
          "text": [
            "Ciphertext : MATMWFNMLJTRRFEGVOKLQXKRVFZPBFIMPEALLUGRLFMLXKOLJFYMPWZFLFMLHSYGHJTRKWT\n",
            "Original/Decrypted Text : Pinot Noir to Eiswen Lets try communicating using something easier then\n"
          ]
        }
      ]
    },
    {
      "cell_type": "code",
      "metadata": {
        "id": "KNs8TTLXpdz0",
        "colab": {
          "base_uri": "https://localhost:8080/"
        },
        "outputId": "9381ddae-d44b-48d4-92cb-c1474875ec32"
      },
      "source": [
        "# Insertion of repeated string, KEY: \"FERMENTED\"\n",
        "import random\n",
        "\n",
        "def randStrApply(text, randString):\n",
        "    randomized_text = \"\"\n",
        "    randcounter = random.randint(1,len(text)-1)\n",
        "    char_list = list(text)\n",
        "    while randcounter > 0:\n",
        "        insert_pos = random.randint(1,len(text)-1)\n",
        "        char_list.insert(insert_pos, randString)\n",
        "        randcounter -= 1\n",
        "        \n",
        "    for char in char_list:\n",
        "        randomized_text += char \n",
        "    return (randomized_text)\n",
        "\n",
        "vig_cipher = \"\"\"Jd't mih2oymoQ uz pp8l l ppd mto4 Wi2m6dnKw\n",
        "Fff22x1f2i z8v rs\n",
        "Uulp e 28pv eu dip jjff Kre dfy, mu'c hwm6dfymo0 pygf u7lmo\n",
        "Gj4l duoo2 duopw b7e 3mmffD pb7f3 xiuu r5pg\n",
        "JI'w cyhtro2or xp 5pzo b 5p4 pj4f Nl32t4qbc\n",
        "Uz2t 2o pzfbz 3xAbf\n",
        "Myu dip tsyu4mfcu 3mh1u 4s tyf tw u1f ss25z 4lbd xtpm vf\n",
        "Br z8v2 sx7 g2soR ezDs\"\"\"\n",
        "keyword = \"BUBLE\"\n",
        "randstr_cipher = randStrApply(vig_cipher, keyword)\n",
        "print(randstr_cipher)"
      ],
      "execution_count": 7,
      "outputs": [
        {
          "output_type": "stream",
          "name": "stdout",
          "text": [
            "\"JdBUBLEBUBLE't mihBUBLE2oymoQ uz pp8l l BUBLEppBUBLEd mtBUBLEo4 BUBLEWiBUBLE2m6dBUBLEnKw\n",
            "BUBLEFfBUBLEf22BUBLEx1f2iBUBLE z8v BUBLErBUBLEs\n",
            "UBUBLEBUBLEulp e 28pv eBUBLEu dip jjff Kre dfBUBLEy, muBUBLEBUBLEBUBLE'c hwmBUBLEBUBLE6dfBUBLEBUBLEyBUBLEBUBLEBUBLEmo0 pygf u7lmo\n",
            "BUBLEGj4l BUBLEduoBUBLEo2BUBLE duopBUBLEw b7e 3BUBLEmmffD pBUBLEb7BUBLEfBUBLE3 xiuu BUBLEr5pg\n",
            "JI'w cyhtroBUBLEBUBLEBUBLE2BUBLEorBUBLEBUBLE xpBUBLE BUBLE5pzoBUBLEBUBLEBUBLE b 5p4 pBUBLEjBUBLEBUBLE4fBUBLE Nl32t4qbc\n",
            "UzBUBLEBUBLE2t BUBLE2o pBUBLEzfbz 3xAbBUBLEf\n",
            "MBUBLEyu diBUBLEp tBUBLEsyBUBLEu4mBUBLEBUBLEfBUBLEBUBLEcBUBLEuBUBLE 3BUBLEmh1u 4BUBLEsBUBLE tBUBLEyf BUBLEtw u1f ss2BUBLEBUBLE5z 4lbd xtpm vf\n",
            "Br z8v2 sx7 g2soR ezDs\n"
          ]
        }
      ]
    },
    {
      "cell_type": "markdown",
      "metadata": {
        "id": "cI9zfA_-oG7R"
      },
      "source": [
        "### Part 2\n"
      ]
    },
    {
      "cell_type": "code",
      "metadata": {
        "id": "_Hw8UyNoprqp",
        "colab": {
          "base_uri": "https://localhost:8080/"
        },
        "outputId": "f410688c-6fb7-4274-b5bf-60519f47494e"
      },
      "source": [
        "pip install pycryptodome"
      ],
      "execution_count": 9,
      "outputs": [
        {
          "output_type": "stream",
          "name": "stdout",
          "text": [
            "Collecting pycryptodome\n",
            "  Downloading pycryptodome-3.11.0-cp35-abi3-manylinux2010_x86_64.whl (1.9 MB)\n",
            "\u001b[K     |████████████████████████████████| 1.9 MB 6.8 MB/s \n",
            "\u001b[?25hInstalling collected packages: pycryptodome\n",
            "Successfully installed pycryptodome-3.11.0\n"
          ]
        }
      ]
    },
    {
      "cell_type": "code",
      "metadata": {
        "id": "XwrWreOZqdPN",
        "colab": {
          "base_uri": "https://localhost:8080/"
        },
        "outputId": "307b784b-cfbf-4f3b-b6b2-864be053df26"
      },
      "source": [
        "import random\n",
        "from Crypto.Util.number import inverse\n",
        "\n",
        "def square_multiply(a,x,n):\n",
        "    y = 1\n",
        "    x = bin(x)\n",
        "    for i in range (2,len(x)):\n",
        "        y = (y**2) % n\n",
        "        if (x[i] == '1'):\n",
        "            y = (a*y)%n\n",
        "    return y\n",
        "        \n",
        "\n",
        "def miller_rabin(n, a):\n",
        "    if (n%2==0):\n",
        "        return False\n",
        "    \n",
        "    d = n-1\n",
        "    r = 0\n",
        "    while (d%2==0):\n",
        "        d = d/2\n",
        "        r += 1\n",
        "    for i in range(a):\n",
        "        rand_int = random.randint(2, n-2)\n",
        "        x = square_multiply(a,int(d),n)\n",
        "        if x != 1 or x != n-1:\n",
        "            for j in range(r-1):\n",
        "                x = x**2 % n\n",
        "                if x ==1:\n",
        "                    return False\n",
        "                if x == n-1:\n",
        "                    j = r-1\n",
        "            if x != n-1:\n",
        "                return False\n",
        "            \n",
        "    return True\n",
        "        \n",
        "\n",
        "def gen_prime_nbits(n):\n",
        "    a = random.randint(0, 2**n-1)\n",
        "    while not (miller_rabin(a,2)):\n",
        "        a = random.randint(0, 2**n-1)\n",
        "    return a\n",
        "\n",
        "# generate keys for Pinot Noir\n",
        "p = gen_prime_nbits(32)\n",
        "q = gen_prime_nbits(32)\n",
        "\n",
        "n = p*q\n",
        "e = 65537\n",
        "phi = (p-1)*(q-1)\n",
        "d = inverse(e,phi)\n",
        "\n",
        "noir_key = []\n",
        "noir_key.append(n)\n",
        "noir_key.append(e)\n",
        "noir_key.append(d)\n",
        "\n",
        "print(\"keys for noir --\")\n",
        "print(\"n: \" + str(n))\n",
        "print(\"e: \" + str(e))\n",
        "print(\"d: \" + str(d))\n",
        "print()\n",
        "\n",
        "# generate keys for Eiswein\n",
        "p = gen_prime_nbits(32)\n",
        "q = gen_prime_nbits(32)\n",
        "\n",
        "n = p*q\n",
        "e = 65537\n",
        "phi = (p-1)*(q-1)\n",
        "d = inverse(e,phi)\n",
        "\n",
        "eiswein_key = []\n",
        "eiswein_key.append(n)\n",
        "eiswein_key.append(e)\n",
        "eiswein_key.append(d)\n",
        "\n",
        "print(\"keys for eiswein --\")\n",
        "print(\"n: \" + str(n))\n",
        "print(\"e: \" + str(e))\n",
        "print(\"d: \" + str(d))"
      ],
      "execution_count": null,
      "outputs": [
        {
          "output_type": "stream",
          "name": "stdout",
          "text": [
            "keys for noir --\n",
            "n: 11354760262635073\n",
            "e: 65537\n",
            "d: 10711109273617241\n",
            "\n",
            "keys for eiswein --\n",
            "n: 10224032451997559599\n",
            "e: 65537\n",
            "d: 3182637074055879401\n"
          ]
        }
      ]
    },
    {
      "cell_type": "code",
      "metadata": {
        "colab": {
          "base_uri": "https://localhost:8080/"
        },
        "id": "-xBS7lGbvT1F",
        "outputId": "75533252-d809-453f-8fbe-f8a4f7a304e5"
      },
      "source": [
        "plaintext = \"\"\"Eiswein -> Pinot Noir: Heyyy can I drop by and visit you at your new place this weekend? It's getting too warm here.\n",
        "Pinot Noir -> Eiswein: Sure! My postal code es 65537, you'll find d gate key there.\n",
        "Eiswein -> Pinot Noir: I am excited to be coming over for Christmas <|:^). \n",
        "Pinot Noir -> Eiswein: I recently installed a really cool gadget to keep those ultraviolet lights away.\n",
        "Eiswein -> Pinot Noir: And not to mention those bubbly oxygen that kills our soul arghhhh\n",
        "Pinot Noir -> Eiswein: That's what I am saying. Enter through the underground tunnel and the secret passcode is CTF{l3ts-g0-p4rty1ng}. Can't wait to see you hohoho\"\"\"   \n",
        "\n",
        "plaintext = plaintext.split(\"\\n\")\n",
        "E2P = []\n",
        "P2E = []\n",
        "for x in plaintext:\n",
        "  if \"Eiswein -> Pinot Noir\" in x:\n",
        "    x = x.replace(\"Eiswein -> Pinot Noir: \" ,'')\n",
        "    E2P.append(x)\n",
        "  else:\n",
        "    x = x.replace(\"Pinot Noir -> Eiswein: \" ,'')\n",
        "    P2E.append(x)\n",
        "\n",
        "print(E2P)\n",
        "print(P2E)\n",
        "\n"
      ],
      "execution_count": null,
      "outputs": [
        {
          "output_type": "stream",
          "name": "stdout",
          "text": [
            "[\"Heyyy can I drop by and visit you at your new place this weekend? It's getting too warm here.\", 'I am excited to be coming over for Christmas <|:^). ', 'And not to mention those bubbly oxygen that kills our soul arghhhh']\n",
            "[\"Sure! My postal code es 65537, you'll find d gate key there.\", 'I recently installed a really cool gadget to keep those ultraviolet lights away.', \"That's what I am saying. Enter through the underground tunnel and the secret passcode is CTF{l3ts-g0-p4rty1ng}. Can't wait to see you hohoho\"]\n"
          ]
        }
      ]
    },
    {
      "cell_type": "code",
      "metadata": {
        "colab": {
          "base_uri": "https://localhost:8080/"
        },
        "id": "dhkLx4vUA73d",
        "outputId": "164b493d-79ba-45a8-fa0d-00ae35405c47"
      },
      "source": [
        "#encrypted bytewise using RSA\n",
        "\n",
        "from base64 import encodebytes, decodebytes\n",
        "\n",
        "\"\"\"keys for noir --\n",
        "stored in noir_key[n, e, d]\n",
        "n: 63591956217291079\n",
        "e: 65537\n",
        "d: 50627489377016705\n",
        "\n",
        "keys for eiswein --\n",
        "stored in eiswein_key[n, e, d]\n",
        "n = 7273029298684008199\n",
        "e = 65537\n",
        "d = 5912797362319981313\"\"\"\n",
        "\n",
        "noir_key = [63591956217291079, 65537, 50627489377016705]\n",
        "eiswein_key = [7273029298684008199, 65537, 5912797362319981313]\n",
        "\n",
        "def square_multiply(a, x, n):\n",
        "    res = 1\n",
        "    for i in bin(x).lstrip('0b'):\n",
        "        res = res * res % n\n",
        "        if (i == '1'):\n",
        "            res = res * a % n\n",
        "\n",
        "    return res\n",
        "\n",
        "# message to integer \n",
        "def get_byte_from_int(x: int) -> bytes:\n",
        "    return x.to_bytes((x.bit_length() + 7) // 8, 'big')\n",
        "\n",
        "def get_int_from_byte(xbytes: bytes) -> int:\n",
        "    return int.from_bytes(xbytes, 'big')\n",
        "   \n",
        "#convert msg to int (string > encode to bytes > get int from bytes)\n",
        "\n",
        "def encrypt(message, e, n):\n",
        "  message_encoded = bytes(message,encoding=\"utf-8\")\n",
        "  encryptedstr = \"\"\n",
        "  for i in range(len(message_encoded)):\n",
        "    message_encoded_int = message_encoded[i]\n",
        "    encryptedint = square_multiply(message_encoded_int, e, n)\n",
        "    encryptedstr += str(encryptedint) + \", \"\n",
        "\n",
        "  return encryptedstr.strip(\", \")\n",
        "  \n",
        "def decrypt(cipher, d, n):\n",
        "  encryptedstr = cipher.split(\", \")\n",
        "  decryptedstr = \"\"\n",
        "  for i in range(len(encryptedstr)):\n",
        "    encrypted_int = encryptedstr[i]\n",
        "    decrypted_int = square_multiply(int(encrypted_int), d, n)\n",
        "    decrypted_bytes = decrypted_int.to_bytes(1, byteorder=\"big\")\n",
        "    decryptedstr += decrypted_bytes.decode(\"utf-8\")\n",
        "  return decryptedstr\n",
        "\n",
        "#encrypting text within E2P using eiswein's keys\n",
        "\n",
        "E2P_encrypt = []\n",
        "for x in E2P:\n",
        "  E2P_encrypt.append(\"Eiswein -> Pinot Noir: \" + encrypt(x, eiswein_key[1], eiswein_key[0]) + \"\\n\")\n",
        "\n",
        "#encrypting text within P2E using noir's keys\n",
        "\n",
        "P2E_encrypt = []\n",
        "for x in P2E:\n",
        "  P2E_encrypt.append(\"Pinot Noir -> Eiswein: \" + encrypt(x, noir_key[1], noir_key[0]) + \"\\n\")\n",
        "\n",
        "\n",
        "out = \"\"\n",
        "for i in range(len(P2E_encrypt)):\n",
        "  out += E2P_encrypt[i]\n",
        "  out += P2E_encrypt[i]\n",
        "\n",
        "print(out)\n",
        "\n"
      ],
      "execution_count": null,
      "outputs": [
        {
          "output_type": "stream",
          "name": "stdout",
          "text": [
            "Eiswein -> Pinot Noir: 4680965664531019178, 5566384205064985490, 5921227930712327686, 5921227930712327686, 5921227930712327686, 6697219439955403466, 906350495177350159, 44672495504437671, 482313635237586194, 6697219439955403466, 6178323100630075026, 6697219439955403466, 5766421851860300521, 1442391336835066431, 2517020981039371826, 3676645484971481362, 6697219439955403466, 2317828704433885463, 5921227930712327686, 6697219439955403466, 44672495504437671, 482313635237586194, 5766421851860300521, 6697219439955403466, 4615682340417377026, 6550735788795570216, 6093827043123944316, 6550735788795570216, 4032275191520642743, 6697219439955403466, 5921227930712327686, 2517020981039371826, 5508305488447940472, 6697219439955403466, 44672495504437671, 4032275191520642743, 6697219439955403466, 5921227930712327686, 2517020981039371826, 5508305488447940472, 1442391336835066431, 6697219439955403466, 482313635237586194, 5566384205064985490, 5377405010986194637, 6697219439955403466, 3676645484971481362, 2896917115039090658, 44672495504437671, 906350495177350159, 5566384205064985490, 6697219439955403466, 4032275191520642743, 813663486541110796, 6550735788795570216, 6093827043123944316, 6697219439955403466, 5377405010986194637, 5566384205064985490, 5566384205064985490, 2463619802957849621, 5566384205064985490, 482313635237586194, 5766421851860300521, 5509058681974785877, 6697219439955403466, 6178323100630075026, 4032275191520642743, 3431986130057687629, 6093827043123944316, 6697219439955403466, 2979027432514286512, 5566384205064985490, 4032275191520642743, 4032275191520642743, 6550735788795570216, 482313635237586194, 2979027432514286512, 6697219439955403466, 4032275191520642743, 2517020981039371826, 2517020981039371826, 6697219439955403466, 5377405010986194637, 44672495504437671, 1442391336835066431, 6847156039243258629, 6697219439955403466, 813663486541110796, 5566384205064985490, 1442391336835066431, 5566384205064985490, 4677421595641896460\n",
            "Pinot Noir -> Eiswein: 40173738474223848, 35124532849314228, 10872175586832865, 26903497748958993, 9615237295997724, 9790228899650740, 54293212433871913, 4615948823938357, 9790228899650740, 13284593456420844, 40637690531008137, 29093750414272543, 43056260857801562, 37890780436087939, 57693385929423450, 9790228899650740, 25014606392679075, 40637690531008137, 1485999194858486, 26903497748958993, 9790228899650740, 26903497748958993, 29093750414272543, 9790228899650740, 58840334606701410, 62881093641585938, 62881093641585938, 48014913808424055, 40721486283433303, 26512692585044394, 9790228899650740, 4615948823938357, 40637690531008137, 35124532849314228, 57086733884201783, 57693385929423450, 57693385929423450, 9790228899650740, 8429280554827358, 25778726479659290, 5867802405581644, 1485999194858486, 9790228899650740, 1485999194858486, 9790228899650740, 8013363585187140, 37890780436087939, 43056260857801562, 26903497748958993, 9790228899650740, 52652346547238476, 26903497748958993, 4615948823938357, 9790228899650740, 43056260857801562, 60461846637781929, 26903497748958993, 10872175586832865, 26903497748958993, 38273452012774764\n",
            "Eiswein -> Pinot Noir: 6178323100630075026, 6697219439955403466, 44672495504437671, 6847156039243258629, 6697219439955403466, 5566384205064985490, 2448025158840630066, 906350495177350159, 6550735788795570216, 4032275191520642743, 5566384205064985490, 5766421851860300521, 6697219439955403466, 4032275191520642743, 2517020981039371826, 6697219439955403466, 2317828704433885463, 5566384205064985490, 6697219439955403466, 906350495177350159, 2517020981039371826, 6847156039243258629, 6550735788795570216, 482313635237586194, 2979027432514286512, 6697219439955403466, 2517020981039371826, 4615682340417377026, 5566384205064985490, 1442391336835066431, 6697219439955403466, 2982901896076455995, 2517020981039371826, 1442391336835066431, 6697219439955403466, 2681410803812330618, 813663486541110796, 1442391336835066431, 6550735788795570216, 6093827043123944316, 4032275191520642743, 6847156039243258629, 44672495504437671, 6093827043123944316, 6697219439955403466, 7132393684531222557, 2298782096763349716, 400558863708102376, 6727444993365528844, 6953769107461925751, 4677421595641896460, 6697219439955403466\n",
            "Pinot Noir -> Eiswein: 31840741716197727, 9790228899650740, 10872175586832865, 26903497748958993, 25014606392679075, 26903497748958993, 5867802405581644, 43056260857801562, 57693385929423450, 4615948823938357, 9790228899650740, 25778726479659290, 5867802405581644, 29093750414272543, 43056260857801562, 37890780436087939, 57693385929423450, 57693385929423450, 26903497748958993, 1485999194858486, 9790228899650740, 37890780436087939, 9790228899650740, 10872175586832865, 26903497748958993, 37890780436087939, 57693385929423450, 57693385929423450, 4615948823938357, 9790228899650740, 25014606392679075, 40637690531008137, 40637690531008137, 57693385929423450, 9790228899650740, 8013363585187140, 37890780436087939, 1485999194858486, 8013363585187140, 26903497748958993, 43056260857801562, 9790228899650740, 43056260857801562, 40637690531008137, 9790228899650740, 52652346547238476, 26903497748958993, 26903497748958993, 13284593456420844, 9790228899650740, 43056260857801562, 60461846637781929, 40637690531008137, 29093750414272543, 26903497748958993, 9790228899650740, 35124532849314228, 57693385929423450, 43056260857801562, 10872175586832865, 37890780436087939, 16498694216010104, 25778726479659290, 40637690531008137, 57693385929423450, 26903497748958993, 43056260857801562, 9790228899650740, 57693385929423450, 25778726479659290, 8013363585187140, 60461846637781929, 43056260857801562, 29093750414272543, 9790228899650740, 37890780436087939, 4437129966333850, 37890780436087939, 4615948823938357, 38273452012774764\n",
            "Eiswein -> Pinot Noir: 5902380991773007884, 482313635237586194, 5766421851860300521, 6697219439955403466, 482313635237586194, 2517020981039371826, 4032275191520642743, 6697219439955403466, 4032275191520642743, 2517020981039371826, 6697219439955403466, 6847156039243258629, 5566384205064985490, 482313635237586194, 4032275191520642743, 6550735788795570216, 2517020981039371826, 482313635237586194, 6697219439955403466, 4032275191520642743, 813663486541110796, 2517020981039371826, 6093827043123944316, 5566384205064985490, 6697219439955403466, 2317828704433885463, 5508305488447940472, 2317828704433885463, 2317828704433885463, 2896917115039090658, 5921227930712327686, 6697219439955403466, 2517020981039371826, 2448025158840630066, 5921227930712327686, 2979027432514286512, 5566384205064985490, 482313635237586194, 6697219439955403466, 4032275191520642743, 813663486541110796, 44672495504437671, 4032275191520642743, 6697219439955403466, 2463619802957849621, 6550735788795570216, 2896917115039090658, 2896917115039090658, 6093827043123944316, 6697219439955403466, 2517020981039371826, 5508305488447940472, 1442391336835066431, 6697219439955403466, 6093827043123944316, 2517020981039371826, 5508305488447940472, 2896917115039090658, 6697219439955403466, 44672495504437671, 1442391336835066431, 2979027432514286512, 813663486541110796, 813663486541110796, 813663486541110796, 813663486541110796\n",
            "Pinot Noir -> Eiswein: 9502218553110238, 60461846637781929, 37890780436087939, 43056260857801562, 57086733884201783, 29093750414272543, 9790228899650740, 4437129966333850, 60461846637781929, 37890780436087939, 43056260857801562, 9790228899650740, 31840741716197727, 9790228899650740, 37890780436087939, 32536278991194279, 9790228899650740, 29093750414272543, 37890780436087939, 4615948823938357, 25778726479659290, 5867802405581644, 8013363585187140, 38273452012774764, 9790228899650740, 1420768714920536, 5867802405581644, 43056260857801562, 26903497748958993, 10872175586832865, 9790228899650740, 43056260857801562, 60461846637781929, 10872175586832865, 40637690531008137, 35124532849314228, 8013363585187140, 60461846637781929, 9790228899650740, 43056260857801562, 60461846637781929, 26903497748958993, 9790228899650740, 35124532849314228, 5867802405581644, 1485999194858486, 26903497748958993, 10872175586832865, 8013363585187140, 10872175586832865, 40637690531008137, 35124532849314228, 5867802405581644, 1485999194858486, 9790228899650740, 43056260857801562, 35124532849314228, 5867802405581644, 5867802405581644, 26903497748958993, 57693385929423450, 9790228899650740, 37890780436087939, 5867802405581644, 1485999194858486, 9790228899650740, 43056260857801562, 60461846637781929, 26903497748958993, 9790228899650740, 29093750414272543, 26903497748958993, 25014606392679075, 10872175586832865, 26903497748958993, 43056260857801562, 9790228899650740, 13284593456420844, 37890780436087939, 29093750414272543, 29093750414272543, 25014606392679075, 40637690531008137, 1485999194858486, 26903497748958993, 9790228899650740, 25778726479659290, 29093750414272543, 9790228899650740, 1236501712736105, 9502218553110238, 19462809404531015, 44520562578308024, 57693385929423450, 48014913808424055, 43056260857801562, 29093750414272543, 31614956718686661, 8013363585187140, 47361308903014663, 31614956718686661, 13284593456420844, 18142997640328095, 10872175586832865, 43056260857801562, 4615948823938357, 25270778420824606, 5867802405581644, 8013363585187140, 47987723497072337, 38273452012774764, 9790228899650740, 1236501712736105, 37890780436087939, 5867802405581644, 57086733884201783, 43056260857801562, 9790228899650740, 4437129966333850, 37890780436087939, 25778726479659290, 43056260857801562, 9790228899650740, 43056260857801562, 40637690531008137, 9790228899650740, 29093750414272543, 26903497748958993, 26903497748958993, 9790228899650740, 4615948823938357, 40637690531008137, 35124532849314228, 9790228899650740, 60461846637781929, 40637690531008137, 60461846637781929, 40637690531008137, 60461846637781929, 40637690531008137\n",
            "\n"
          ]
        }
      ]
    },
    {
      "cell_type": "markdown",
      "metadata": {
        "id": "8wTxQnTQpHjy"
      },
      "source": [
        "# Decryption"
      ]
    },
    {
      "cell_type": "markdown",
      "metadata": {
        "id": "Fuqt-zjcpQfo"
      },
      "source": [
        "### Part 1"
      ]
    },
    {
      "cell_type": "code",
      "metadata": {
        "colab": {
          "base_uri": "https://localhost:8080/"
        },
        "id": "XXcBgWesnRdo",
        "outputId": "d1919141-b829-4cc9-aa8d-c963408b69cf"
      },
      "source": [
        "# decrypt text using ascii encoding\n",
        "\n",
        "input_string = \"\"\"\"\"\"\n",
        "input_string = input_string.split(\" \")\n",
        "out = \"\"\n",
        "for x in input_string:\n",
        "  out += chr(int(x))\n",
        "\n",
        "print(out)"
      ],
      "execution_count": null,
      "outputs": [
        {
          "output_type": "stream",
          "name": "stdout",
          "text": [
            "888\n"
          ]
        }
      ]
    },
    {
      "cell_type": "code",
      "metadata": {
        "id": "wwwb3yLipvwQ"
      },
      "source": [
        ""
      ],
      "execution_count": null,
      "outputs": []
    },
    {
      "cell_type": "code",
      "metadata": {
        "id": "1wUc7vuctAle",
        "colab": {
          "base_uri": "https://localhost:8080/",
          "height": 122
        },
        "outputId": "8a23f90f-05ad-486e-925e-957b495d8461"
      },
      "source": [
        "# code to strip random insertions -> simple once figured out\n",
        "# KEY USED: \"FERMENTED\"\n",
        "def stripRandStr(text, randString):\n",
        "    plaintext = text.replace(randString, \"\")\n",
        "    return plaintext\n",
        "\n",
        "stripRandStr(\"\"\"K CAREYdfr ucCAREYnCAREYCAREYCAREYee CAREYCAREYCAREYjqt wsp CAREYCAREYCAREYEhCAREYimqCAREYvmrw\n",
        "CAREYCAREY7fgrvCAREY mq lujx CAREY2 rjiekxCAREY K nvCAREYib\n",
        "K dfr aCAREYcrv eCAREYzqukCAREY 7lCAREYCAREYCAREYc rrvwcptj CAREYylfCAREYeiCAREYrcctCAREYyCAREY xCAREYfg KCAREYCAREYimCAREYqCAREYvCAREYmrw rt3e\n",
        "CAREYZ nsut nelCAREYv yfy dqr dc CAREY0up\n",
        "CAREYCAREYMfCAREYvc vhrrCAREY wqu2si cxei wfCAREY9CAREYys\n",
        "DCAREYeCAREYiCAREYg mp CAREYa2qj cfqc vrCAREYCAREYlCAREYi\n",
        "CAREYYnlCAREY CAREYZ aypt wsp EhimCAREYqvmCAREYrw gCAREYu y9l\n",
        "M bqn n8 e jqt wsCAREYp Ehimqvmrw\n",
        "CAREYCAREYRCAREYCAREYjeiiCAREYxCAREY cCAREYCAREYCAREYbfyr CAREY6 CAREYCAREYvCAREYh8ekq KCAREY nvib\n",
        "Foe'xCAREY a4te rfmwt CAREYCAREYklCAREYc rrvxxglj yCAREYlCAREYCAREYfeirCAREYcCAREYctyCAREY CAREYxCAREYfCAREYgCAREY CAREYCAREYCyvgutd00w rtev\n",
        "M CAREYbqCAREYnCAREYCAREY'k rcgd CAREYCAREYksCAREY fcCAREYCAREYnxCAREY qwCAREY CAREYhijlz8 CAREYvhvCAREYvc wpCAREYfr rje CAREYwCAREYCAREYmpgCAREYp1rgc\n",
        "9cnCAREYke AnalwCAREY uqn'k qyme CAREYdi fcpgCAREYc ukty e rqyCAREY fCAREYCAREYr 9CAREYsksdeq Fap\"\"\", \"CAREY\")"
      ],
      "execution_count": 4,
      "outputs": [
        {
          "output_type": "execute_result",
          "data": {
            "application/vnd.google.colaboratory.intrinsic+json": {
              "type": "string"
            },
            "text/plain": [
              "\"K dfr ucnee jqt wsp Ehimqvmrw\\n7fgrv mq lujx 2 rjiekx K nvib\\nK dfr acrv ezquk 7lc rrvwcptj ylfeirccty xfg Kimqvmrw rt3e\\nZ nsut nelv yfy dqr dc 0up\\nMfvc vhrr wqu2si cxei wf9ys\\nDeig mp a2qj cfqc vrli\\nYnl Z aypt wsp Ehimqvmrw gu y9l\\nM bqn n8 e jqt wsp Ehimqvmrw\\nRjeiix cbfyr 6 vh8ekq K nvib\\nFoe'x a4te rfmwt klc rrvxxglj ylfeirccty xfg Cyvgutd00w rtev\\nM bqn'k rcgd ks fcnx qw hijlz8 vhvvc wpfr rje wmpgp1rgc\\n9cnke Analw uqn'k qyme di fcpgc ukty e rqy fr 9sksdeq Fap\""
            ]
          },
          "metadata": {},
          "execution_count": 4
        }
      ]
    },
    {
      "cell_type": "code",
      "metadata": {
        "id": "1UHMGu_upSMp",
        "colab": {
          "base_uri": "https://localhost:8080/"
        },
        "outputId": "cf43c10d-9a85-483e-af64-f54f03a87b26"
      },
      "source": [
        "# Vigenere decryption # KEY USED: \"FERMENTED\"\n",
        "# This function decrypts the encrypted text and returns\n",
        "# the original text\n",
        "# doesnt work so do we remove?\n",
        "def originalText(cipher_text, key):\n",
        "    orig_text = []\n",
        "    for i in range(len(cipher_text)):\n",
        "        x = (ord(cipher_text[i]) - ord(key[i%len(key)]) + 26) % 26\n",
        "        x += ord('A')\n",
        "        orig_text.append(chr(x))\n",
        "    return(\"\" . join(orig_text))\n",
        "\n",
        "print(originalText(cipher_text,key))"
      ],
      "execution_count": 6,
      "outputs": [
        {
          "output_type": "stream",
          "name": "stdout",
          "text": [
            "FLZOPJRYXIAKTEPKYSDUMNSIPBWWITOZLIZZXGDDHYYMMYNAMPZBSXPJBCIJGDMOUZZGIGFYMIGRZPPRSNLWHSYVZPLKLUPVVZOPXVKDZCQATESYYYJSNOIELDDTWYZFSTBBSKNOODIDVQSAEJPZAPRYQWYSYDIGSOJHEWPPPXSOWVDAPOUGSCXIGKNAIYSVZPPTVCTPUBKTVKWCRTLRQYPJXSFYMEQIORYEPTBSWISQJSBGUBWJHAGSAEEBOIWFZVWKSNOIIXMSAWJYGIWZGRIGDYCIBGDIMPWRMXPPGYIIZBFFPCTRU\n"
          ]
        }
      ]
    },
    {
      "cell_type": "code",
      "metadata": {
        "id": "DFWj0EfjjA2k"
      },
      "source": [
        "# decrypt Vigenere cipher with given key online\n",
        "# https://www.dcode.fr/vigenere-cipher"
      ],
      "execution_count": null,
      "outputs": []
    },
    {
      "cell_type": "markdown",
      "metadata": {
        "id": "xrR_STBdpXBp"
      },
      "source": [
        "### Part 2"
      ]
    },
    {
      "cell_type": "code",
      "metadata": {
        "id": "ri7i-fifpYu7"
      },
      "source": [
        "# to solve RSA\n",
        "from Crypto.Util.number import inverse\n",
        "\n",
        "# all integers here\n",
        "noir_n = 63591956217291079 #embedded within the conversation from Pinot Noir to Eiswein\n",
        "eiswein_n = 7273029298684008199 #embedded within the conversation from Eiswein to Pinot Noir\n",
        "e = 65537 # because it is the most common e used; hinted in the RSA encrypted conversation too\n",
        "\n",
        "# deduce p and q using bruteforce factorization (we used an online source)\n",
        "# http://factordb.com/\n",
        "\n",
        "noir_p = 24575843\n",
        "noir_q = 2587579853\n",
        "noir_phi = (noir_p-1) * (noir_q-1)\n",
        "eiswein_p = 2018596717 \n",
        "eiswein_q = 3603012547\n",
        "eiswein_phi = (eiswein_p-1) * (eiswein_q-1)\n",
        "\n",
        "#test out p and q using d\n",
        "noir_d = inverse(e, noir_phi)\n",
        "eiswein_d = inverse(e, eiswein_phi)\n",
        "\n"
      ],
      "execution_count": 10,
      "outputs": []
    },
    {
      "cell_type": "code",
      "metadata": {
        "id": "yAsa0WhfA8YF",
        "colab": {
          "base_uri": "https://localhost:8080/"
        },
        "outputId": "e8f16388-e384-4376-d3aa-3bcccefa4005"
      },
      "source": [
        "#decrypt bytewise using RSA\n",
        "\n",
        "ciphertext = \"\"\"Eiswein -> Pinot Noir: 4680965664531019178, 5566384205064985490, 5921227930712327686, 5921227930712327686, 5921227930712327686, 6697219439955403466, 906350495177350159, 44672495504437671, 482313635237586194, 6697219439955403466, 6178323100630075026, 6697219439955403466, 5766421851860300521, 1442391336835066431, 2517020981039371826, 3676645484971481362, 6697219439955403466, 2317828704433885463, 5921227930712327686, 6697219439955403466, 44672495504437671, 482313635237586194, 5766421851860300521, 6697219439955403466, 4615682340417377026, 6550735788795570216, 6093827043123944316, 6550735788795570216, 4032275191520642743, 6697219439955403466, 5921227930712327686, 2517020981039371826, 5508305488447940472, 6697219439955403466, 44672495504437671, 4032275191520642743, 6697219439955403466, 5921227930712327686, 2517020981039371826, 5508305488447940472, 1442391336835066431, 6697219439955403466, 482313635237586194, 5566384205064985490, 5377405010986194637, 6697219439955403466, 3676645484971481362, 2896917115039090658, 44672495504437671, 906350495177350159, 5566384205064985490, 6697219439955403466, 4032275191520642743, 813663486541110796, 6550735788795570216, 6093827043123944316, 6697219439955403466, 5377405010986194637, 5566384205064985490, 5566384205064985490, 2463619802957849621, 5566384205064985490, 482313635237586194, 5766421851860300521, 5509058681974785877, 6697219439955403466, 6178323100630075026, 4032275191520642743, 3431986130057687629, 6093827043123944316, 6697219439955403466, 2979027432514286512, 5566384205064985490, 4032275191520642743, 4032275191520642743, 6550735788795570216, 482313635237586194, 2979027432514286512, 6697219439955403466, 4032275191520642743, 2517020981039371826, 2517020981039371826, 6697219439955403466, 5377405010986194637, 44672495504437671, 1442391336835066431, 6847156039243258629, 6697219439955403466, 813663486541110796, 5566384205064985490, 1442391336835066431, 5566384205064985490, 4677421595641896460\n",
        "Pinot Noir -> Eiswein: 40173738474223848, 35124532849314228, 10872175586832865, 26903497748958993, 9615237295997724, 9790228899650740, 54293212433871913, 4615948823938357, 9790228899650740, 13284593456420844, 40637690531008137, 29093750414272543, 43056260857801562, 37890780436087939, 57693385929423450, 9790228899650740, 25014606392679075, 40637690531008137, 1485999194858486, 26903497748958993, 9790228899650740, 26903497748958993, 29093750414272543, 9790228899650740, 58840334606701410, 62881093641585938, 62881093641585938, 48014913808424055, 40721486283433303, 26512692585044394, 9790228899650740, 4615948823938357, 40637690531008137, 35124532849314228, 57086733884201783, 57693385929423450, 57693385929423450, 9790228899650740, 8429280554827358, 25778726479659290, 5867802405581644, 1485999194858486, 9790228899650740, 1485999194858486, 9790228899650740, 8013363585187140, 37890780436087939, 43056260857801562, 26903497748958993, 9790228899650740, 52652346547238476, 26903497748958993, 4615948823938357, 9790228899650740, 43056260857801562, 60461846637781929, 26903497748958993, 10872175586832865, 26903497748958993, 38273452012774764\n",
        "Eiswein -> Pinot Noir: 6178323100630075026, 6697219439955403466, 44672495504437671, 6847156039243258629, 6697219439955403466, 5566384205064985490, 2448025158840630066, 906350495177350159, 6550735788795570216, 4032275191520642743, 5566384205064985490, 5766421851860300521, 6697219439955403466, 4032275191520642743, 2517020981039371826, 6697219439955403466, 2317828704433885463, 5566384205064985490, 6697219439955403466, 906350495177350159, 2517020981039371826, 6847156039243258629, 6550735788795570216, 482313635237586194, 2979027432514286512, 6697219439955403466, 2517020981039371826, 4615682340417377026, 5566384205064985490, 1442391336835066431, 6697219439955403466, 2982901896076455995, 2517020981039371826, 1442391336835066431, 6697219439955403466, 2681410803812330618, 813663486541110796, 1442391336835066431, 6550735788795570216, 6093827043123944316, 4032275191520642743, 6847156039243258629, 44672495504437671, 6093827043123944316, 6697219439955403466, 7132393684531222557, 2298782096763349716, 400558863708102376, 6727444993365528844, 6953769107461925751, 4677421595641896460, 6697219439955403466\n",
        "Pinot Noir -> Eiswein: 31840741716197727, 9790228899650740, 10872175586832865, 26903497748958993, 25014606392679075, 26903497748958993, 5867802405581644, 43056260857801562, 57693385929423450, 4615948823938357, 9790228899650740, 25778726479659290, 5867802405581644, 29093750414272543, 43056260857801562, 37890780436087939, 57693385929423450, 57693385929423450, 26903497748958993, 1485999194858486, 9790228899650740, 37890780436087939, 9790228899650740, 10872175586832865, 26903497748958993, 37890780436087939, 57693385929423450, 57693385929423450, 4615948823938357, 9790228899650740, 25014606392679075, 40637690531008137, 40637690531008137, 57693385929423450, 9790228899650740, 8013363585187140, 37890780436087939, 1485999194858486, 8013363585187140, 26903497748958993, 43056260857801562, 9790228899650740, 43056260857801562, 40637690531008137, 9790228899650740, 52652346547238476, 26903497748958993, 26903497748958993, 13284593456420844, 9790228899650740, 43056260857801562, 60461846637781929, 40637690531008137, 29093750414272543, 26903497748958993, 9790228899650740, 35124532849314228, 57693385929423450, 43056260857801562, 10872175586832865, 37890780436087939, 16498694216010104, 25778726479659290, 40637690531008137, 57693385929423450, 26903497748958993, 43056260857801562, 9790228899650740, 57693385929423450, 25778726479659290, 8013363585187140, 60461846637781929, 43056260857801562, 29093750414272543, 9790228899650740, 37890780436087939, 4437129966333850, 37890780436087939, 4615948823938357, 38273452012774764\n",
        "Eiswein -> Pinot Noir: 5902380991773007884, 482313635237586194, 5766421851860300521, 6697219439955403466, 482313635237586194, 2517020981039371826, 4032275191520642743, 6697219439955403466, 4032275191520642743, 2517020981039371826, 6697219439955403466, 6847156039243258629, 5566384205064985490, 482313635237586194, 4032275191520642743, 6550735788795570216, 2517020981039371826, 482313635237586194, 6697219439955403466, 4032275191520642743, 813663486541110796, 2517020981039371826, 6093827043123944316, 5566384205064985490, 6697219439955403466, 2317828704433885463, 5508305488447940472, 2317828704433885463, 2317828704433885463, 2896917115039090658, 5921227930712327686, 6697219439955403466, 2517020981039371826, 2448025158840630066, 5921227930712327686, 2979027432514286512, 5566384205064985490, 482313635237586194, 6697219439955403466, 4032275191520642743, 813663486541110796, 44672495504437671, 4032275191520642743, 6697219439955403466, 2463619802957849621, 6550735788795570216, 2896917115039090658, 2896917115039090658, 6093827043123944316, 6697219439955403466, 2517020981039371826, 5508305488447940472, 1442391336835066431, 6697219439955403466, 6093827043123944316, 2517020981039371826, 5508305488447940472, 2896917115039090658, 6697219439955403466, 44672495504437671, 1442391336835066431, 2979027432514286512, 813663486541110796, 813663486541110796, 813663486541110796, 813663486541110796\n",
        "Pinot Noir -> Eiswein: 9502218553110238, 60461846637781929, 37890780436087939, 43056260857801562, 57086733884201783, 29093750414272543, 9790228899650740, 4437129966333850, 60461846637781929, 37890780436087939, 43056260857801562, 9790228899650740, 31840741716197727, 9790228899650740, 37890780436087939, 32536278991194279, 9790228899650740, 29093750414272543, 37890780436087939, 4615948823938357, 25778726479659290, 5867802405581644, 8013363585187140, 38273452012774764, 9790228899650740, 1420768714920536, 5867802405581644, 43056260857801562, 26903497748958993, 10872175586832865, 9790228899650740, 43056260857801562, 60461846637781929, 10872175586832865, 40637690531008137, 35124532849314228, 8013363585187140, 60461846637781929, 9790228899650740, 43056260857801562, 60461846637781929, 26903497748958993, 9790228899650740, 35124532849314228, 5867802405581644, 1485999194858486, 26903497748958993, 10872175586832865, 8013363585187140, 10872175586832865, 40637690531008137, 35124532849314228, 5867802405581644, 1485999194858486, 9790228899650740, 43056260857801562, 35124532849314228, 5867802405581644, 5867802405581644, 26903497748958993, 57693385929423450, 9790228899650740, 37890780436087939, 5867802405581644, 1485999194858486, 9790228899650740, 43056260857801562, 60461846637781929, 26903497748958993, 9790228899650740, 29093750414272543, 26903497748958993, 25014606392679075, 10872175586832865, 26903497748958993, 43056260857801562, 9790228899650740, 13284593456420844, 37890780436087939, 29093750414272543, 29093750414272543, 25014606392679075, 40637690531008137, 1485999194858486, 26903497748958993, 9790228899650740, 25778726479659290, 29093750414272543, 9790228899650740, 1236501712736105, 9502218553110238, 19462809404531015, 44520562578308024, 57693385929423450, 48014913808424055, 43056260857801562, 29093750414272543, 31614956718686661, 8013363585187140, 47361308903014663, 31614956718686661, 13284593456420844, 18142997640328095, 10872175586832865, 43056260857801562, 4615948823938357, 25270778420824606, 5867802405581644, 8013363585187140, 47987723497072337, 38273452012774764, 9790228899650740, 1236501712736105, 37890780436087939, 5867802405581644, 57086733884201783, 43056260857801562, 9790228899650740, 4437129966333850, 37890780436087939, 25778726479659290, 43056260857801562, 9790228899650740, 43056260857801562, 40637690531008137, 9790228899650740, 29093750414272543, 26903497748958993, 26903497748958993, 9790228899650740, 4615948823938357, 40637690531008137, 35124532849314228, 9790228899650740, 60461846637781929, 40637690531008137, 60461846637781929, 40637690531008137, 60461846637781929, 40637690531008137\"\"\"\n",
        "def square_multiply(a, x, n):\n",
        "    res = 1\n",
        "    for i in bin(x).lstrip('0b'):\n",
        "        res = res * res % n\n",
        "        if (i == '1'):\n",
        "            res = res * a % n\n",
        "\n",
        "    return res\n",
        "\n",
        "# message to integer \n",
        "def get_byte_from_int(x: int) -> bytes:\n",
        "    return x.to_bytes((x.bit_length() + 7) // 8, 'big')\n",
        "\n",
        "def get_int_from_byte(xbytes: bytes) -> int:\n",
        "    return int.from_bytes(xbytes, 'big')\n",
        "   \n",
        "#convert msg to int (string > encode to bytes > get int from bytes)\n",
        "\n",
        "def encrypt(message, e, n):\n",
        "  message_encoded = bytes(message,encoding=\"utf-8\")\n",
        "  encryptedstr = \"\"\n",
        "  for i in range(len(message_encoded)):\n",
        "    message_encoded_int = message_encoded[i]\n",
        "    encryptedint = square_multiply(message_encoded_int, e, n)\n",
        "    encryptedstr += str(encryptedint) + \", \"\n",
        "\n",
        "  return encryptedstr.strip(\", \")\n",
        "  \n",
        "def decrypt(cipher, d, n):\n",
        "  encryptedstr = cipher.split(\", \")\n",
        "  decryptedstr = \"\"\n",
        "  for i in range(len(encryptedstr)):\n",
        "    encrypted_int = encryptedstr[i]\n",
        "    decrypted_int = square_multiply(int(encrypted_int), d, n)\n",
        "    decrypted_bytes = decrypted_int.to_bytes(1, byteorder=\"big\")\n",
        "    decryptedstr += decrypted_bytes.decode(\"utf-8\")\n",
        "  return decryptedstr\n",
        "\n",
        "ciphertext = ciphertext.split(\"\\n\")\n",
        "out = \"\"\n",
        "\n",
        "for x in ciphertext: \n",
        "  if \"Eiswein -> Pinot Noir: \" in x:\n",
        "    cipher = x.strip(\"Eiswein -> Pinot Noir: \")\n",
        "    out += decrypt(cipher, eiswein_d, eiswein_n)\n",
        "    out += \"\\n\"\n",
        "  else:\n",
        "    cipher = x.strip(\"Pinot Noir -> Eiswein: \")\n",
        "    out += decrypt(cipher, noir_d, noir_n)\n",
        "\n",
        "print(out)\n",
        "\n"
      ],
      "execution_count": 11,
      "outputs": [
        {
          "output_type": "stream",
          "name": "stdout",
          "text": [
            "Heyyy can I drop by and visit you at your new place this weekend? It's getting too warm here.\n",
            "Sure! My postal code es 65537, you'll find d gate key there.I am excited to be coming over for Christmas <|:^). \n",
            "I recently installed a really cool gadget to keep those ultraviolet lights away.And not to mention those bubbly oxygen that kills our soul arghhhh\n",
            "That's what I am saying. Enter through the underground tunnel and the secret passcode is CTF{l3ts-g0-p4rty1ng}. Can't wait to see you hohoho\n"
          ]
        }
      ]
    },
    {
      "cell_type": "code",
      "metadata": {
        "id": "ygWHZC_yfUw5"
      },
      "source": [
        ""
      ],
      "execution_count": null,
      "outputs": []
    }
  ]
}